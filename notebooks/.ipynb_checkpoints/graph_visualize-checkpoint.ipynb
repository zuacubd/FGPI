{
 "cells": [
  {
   "cell_type": "code",
   "execution_count": 1,
   "metadata": {},
   "outputs": [
    {
     "name": "stderr",
     "output_type": "stream",
     "text": [
      "100%|██████████| 926/926 [00:00<00:00, 938599.69it/s]"
     ]
    },
    {
     "name": "stdout",
     "output_type": "stream",
     "text": [
      "926\n",
      "Done\n"
     ]
    },
    {
     "name": "stderr",
     "output_type": "stream",
     "text": [
      "\n"
     ]
    }
   ],
   "source": [
    "import os\n",
    "import sys\n",
    "\n",
    "#sys.path.insert(0, os.path.abspath('env/lib/python3.7/site-packages/'))\n",
    "\n",
    "import pandas as pd\n",
    "import numpy as np\n",
    "import random\n",
    "import networkx as nx\n",
    "\n",
    "from tqdm import tqdm\n",
    "import re\n",
    "import matplotlib.pyplot as plt\n",
    "\n",
    "\n",
    "from node2vec import Node2Vec\n",
    "\n",
    "\n",
    "def plots_graph():\n",
    "    # plot graph\n",
    "    plt.figure(figsize=(10,10))\n",
    "    pos = nx.random_layout(DG)\n",
    "    nx.draw(DG, with_labels=False,  pos = pos, node_size = 40, alpha = 0.6, width = 0.7)\n",
    "    plt.show()\n",
    "\n",
    "\n",
    "data_dir = \"/projets/sig/mullah/nlp/prevision_fgpi/\"\n",
    "newretweetuserid_neworiginaluserid_path = os.path.join(data_dir, 'data/processed/UserRetweet_UserOriginal_idOriginalTweet.txt')\n",
    "\n",
    "\n",
    "# load edges (or links)\n",
    "with open(newretweetuserid_neworiginaluserid_path) as f:\n",
    "    links = f.read().splitlines() \n",
    "\n",
    "print (\"Total links: {}\".format(len(links)))\n",
    "\n",
    "# captture nodes in 2 separate lists\n",
    "node_list_1 = []\n",
    "node_list_2 = []\n",
    "\n",
    "for i in tqdm(links):\n",
    "    node_list_1.append(i.split(' ')[0])\n",
    "    node_list_2.append(i.split(' ')[1])\n",
    "    \n",
    "links_df = pd.DataFrame({'node_1': node_list_1, 'node_2': node_list_2})\n",
    "\n",
    "# create graph\n",
    "DG = nx.from_pandas_edgelist(links_df, \"node_1\", \"node_2\", create_using=nx.DiGraph())\n",
    "print ('Done')\n",
    "plots_graph()\n"
   ]
  },
  {
   "cell_type": "code",
   "execution_count": null,
   "metadata": {},
   "outputs": [],
   "source": []
  },
  {
   "cell_type": "code",
   "execution_count": null,
   "metadata": {},
   "outputs": [],
   "source": []
  }
 ],
 "metadata": {
  "kernelspec": {
   "display_name": "Py36 (torch)",
   "language": "python",
   "name": "e36t11"
  },
  "language_info": {
   "codemirror_mode": {
    "name": "ipython",
    "version": 3
   },
   "file_extension": ".py",
   "mimetype": "text/x-python",
   "name": "python",
   "nbconvert_exporter": "python",
   "pygments_lexer": "ipython3",
   "version": "3.6.12"
  }
 },
 "nbformat": 4,
 "nbformat_minor": 4
}
