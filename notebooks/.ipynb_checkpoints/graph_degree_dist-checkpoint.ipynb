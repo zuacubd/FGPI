{
 "cells": [
  {
   "cell_type": "code",
   "execution_count": 6,
   "metadata": {},
   "outputs": [
    {
     "name": "stderr",
     "output_type": "stream",
     "text": [
      "100%|██████████| 926/926 [00:00<00:00, 1064672.56it/s]"
     ]
    },
    {
     "name": "stdout",
     "output_type": "stream",
     "text": [
      "926\n",
      "now plots ...\n"
     ]
    },
    {
     "name": "stderr",
     "output_type": "stream",
     "text": [
      "\n"
     ]
    },
    {
     "data": {
      "image/png": "[encoded data removed]",
      "text/plain": [
       "<Figure size 432x288 with 1 Axes>"
      ]
     },
     "metadata": {
      "needs_background": "light"
     },
     "output_type": "display_data"
    }
   ],
   "source": [
    "import os\n",
    "import sys\n",
    "\n",
    "import collections\n",
    "import pandas as pd\n",
    "import numpy as np\n",
    "import random\n",
    "import networkx as nx\n",
    "\n",
    "from tqdm import tqdm\n",
    "import re\n",
    "import matplotlib.pyplot as plt\n",
    "\n",
    "\n",
    "def save_plot(G, deg, cnt, fig_name):\n",
    "    fig, ax = plt.subplots()\n",
    "    plt.bar(deg, cnt, width=0.80, color=\"b\")\n",
    "\n",
    "    plt.title(\"Degree Histogram\")\n",
    "    plt.ylabel(\"Count\")\n",
    "    plt.xlabel(\"Degree\")\n",
    "    ax.set_xticks([d + 0.5 for d in deg])\n",
    "    ax.set_xticklabels(deg)\n",
    "\n",
    "    #plt.axes([0.4, 0.4, 0.5, 0.5])\n",
    "    #Gcc = G.subgraph(sorted(nx.connected_components(G), key=len, reverse=True)[0])\n",
    "    #pos = nx.spring_layout(G)\n",
    "    #plt.axis(\"off\")\n",
    "    #nx.draw_networkx_nodes(G, pos, node_size=20)\n",
    "    #nx.draw_networkx_edges(G, pos, alpha=0.4)\n",
    "    plt.show()\n",
    "    #plt.show(block=False)\n",
    "    #plt.savefig(fig_name, format=\"PNG\")\n",
    "\n",
    "\n",
    "#from node2vec import Node2Vec\n",
    "\n",
    "data_dir = \"/projets/sig/mullah/nlp/prevision_fgpi\"\n",
    "newretweetuserid_neworiginaluserid_path = os.path.join(data_dir, 'data/processed/UserRetweet_UserOriginal_idOriginalTweet.txt')\n",
    "figures_path ='figures/'\n",
    "\n",
    "# load edges (or links)\n",
    "with open(newretweetuserid_neworiginaluserid_path) as f:\n",
    "    links = f.read().splitlines()\n",
    "\n",
    "print (len(links))\n",
    "\n",
    "# captture nodes in 2 separate lists\n",
    "node_list_1 = []\n",
    "node_list_2 = []\n",
    "\n",
    "for i in tqdm(links):\n",
    "    node_list_1.append(i.split(' ')[0])\n",
    "    node_list_2.append(i.split(' ')[1])\n",
    "\n",
    "links_df = pd.DataFrame({'node_1': node_list_1, 'node_2': node_list_2})\n",
    "\n",
    "# create graph\n",
    "G = nx.from_pandas_edgelist(links_df, \"node_1\", \"node_2\", create_using=nx.DiGraph())\n",
    "degree_sequence = sorted([d for n, d in G.degree()], reverse=True)  # degree sequence\n",
    "degreeCount = collections.Counter(degree_sequence)\n",
    "deg, cnt = zip(*degreeCount.items())\n",
    "print ('now plots ...')\n",
    "save_plot(G, deg, cnt, figures_path + 'Graph_degree.png')"
   ]
  },
  {
   "cell_type": "code",
   "execution_count": null,
   "metadata": {},
   "outputs": [],
   "source": []
  }
 ],
 "metadata": {
  "kernelspec": {
   "display_name": "Py36 (torch)",
   "language": "python",
   "name": "e36t11"
  },
  "language_info": {
   "codemirror_mode": {
    "name": "ipython",
    "version": 3
   },
   "file_extension": ".py",
   "mimetype": "text/x-python",
   "name": "python",
   "nbconvert_exporter": "python",
   "pygments_lexer": "ipython3",
   "version": "3.6.12"
  }
 },
 "nbformat": 4,
 "nbformat_minor": 4
}
